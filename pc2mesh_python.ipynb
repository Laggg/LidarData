{
 "cells": [
  {
   "cell_type": "code",
   "execution_count": 2,
   "id": "393e519a",
   "metadata": {},
   "outputs": [
    {
     "name": "stdout",
     "output_type": "stream",
     "text": [
      "o3d version 0.11.2\n"
     ]
    }
   ],
   "source": [
    "import numpy as np\n",
    "import open3d as o3d\n",
    "\n",
    "def custom_draw_geometry_with_key_callback(pcd):\n",
    "    \n",
    "    def change_background_to_black(vis):\n",
    "        opt = vis.get_render_option()\n",
    "        #print(dir(opt))       \n",
    "        opt.background_color = np.array([0, 0, 0])\n",
    "        return False\n",
    "    \n",
    "    def change_background_to_white(vis):\n",
    "        opt = vis.get_render_option()\n",
    "        opt.background_color = np.array([255, 255, 255])\n",
    "        return False\n",
    "    \n",
    "    def points_size_up(vis):\n",
    "        opt = vis.get_render_option()\n",
    "        opt.point_size = opt.point_size+0.5\n",
    "        return False\n",
    "    \n",
    "    def points_size_down(vis):\n",
    "        opt = vis.get_render_option()\n",
    "        opt.point_size = opt.point_size-0.5\n",
    "        return False   \n",
    "    \n",
    "    def do_nothing(vis):\n",
    "        return False \n",
    "\n",
    "    key_to_callback = {}\n",
    "    key_to_callback[ord(\"Q\")] = change_background_to_black\n",
    "    key_to_callback[ord(\"W\")] = change_background_to_white\n",
    "    key_to_callback[ord(\"1\")] = points_size_down\n",
    "    key_to_callback[ord(\"2\")] = points_size_up\n",
    "    key_to_callback[ord(\"3\")] = do_nothing\n",
    "    key_to_callback[ord(\"4\")] = do_nothing\n",
    "    \n",
    "    o3d.visualization.draw_geometries_with_key_callbacks([pcd],\n",
    "                                                         key_to_callback,\n",
    "                                                         width=1000, height=600)\n",
    "    \n",
    "print('o3d version', o3d.__version__)"
   ]
  },
  {
   "cell_type": "markdown",
   "id": "394dd5ad",
   "metadata": {},
   "source": [
    "### Read Data"
   ]
  },
  {
   "cell_type": "code",
   "execution_count": 5,
   "id": "818f1740",
   "metadata": {},
   "outputs": [
    {
     "name": "stdout",
     "output_type": "stream",
     "text": [
      "29 (294, 3)\n"
     ]
    }
   ],
   "source": [
    "human_pc = np.load('./SUOD/SUOD/points_val/18.npy')\n",
    "pcd = o3d.geometry.PointCloud()\n",
    "pcd.points = o3d.utility.Vector3dVector(human_pc)\n",
    "print(i, human_pc.shape)\n",
    "#human_pc[:5]"
   ]
  },
  {
   "cell_type": "markdown",
   "id": "17e397c7",
   "metadata": {},
   "source": [
    "### Normal Estimation (требуются для 2/3 алгоритмов, но у нас их изначально нет)\n",
    "\n",
    "- http://www.open3d.org/docs/0.7.0/tutorial/Basic/pointcloud.html#vertex-normal-estimation\n",
    "- http://www.open3d.org/docs/latest/tutorial/Advanced/surface_reconstruction.html#Normal-Estimation"
   ]
  },
  {
   "cell_type": "code",
   "execution_count": 8,
   "id": "a25dac49",
   "metadata": {},
   "outputs": [
    {
     "name": "stdout",
     "output_type": "stream",
     "text": [
      "[Open3D WARNING] GLFW Error: WGL: Failed to make context current: Требуемая операция преобразования не поддерживается. \n",
      "[Open3D WARNING] GLFW Error: WGL: Failed to make context current: Требуемая операция преобразования не поддерживается. \n"
     ]
    }
   ],
   "source": [
    "n = np.empty((human_pc.shape[0],4))\n",
    "n[:,:3] = -np.asarray(pcd.points)\n",
    "n[:,3] = np.sqrt(n[:,0]**2+n[:,1]**2+n[:,2]**2)\n",
    "n[:,0]/=n[:,3]\n",
    "n[:,1]/=n[:,3]\n",
    "n[:,2]/=n[:,3]\n",
    "n[:,3] = n[:,0]**2+n[:,1]**2+n[:,2]**2\n",
    "\n",
    "pcd.normals = o3d.utility.Vector3dVector(n[:,:3])\n",
    "o3d.visualization.draw_geometries([pcd], point_show_normal=True)"
   ]
  },
  {
   "cell_type": "code",
   "execution_count": 24,
   "id": "ecd87a9f",
   "metadata": {},
   "outputs": [],
   "source": [
    "#pcd.estimate_normals()\n",
    "#pcd.estimate_normals(search_param=o3d.geometry.KDTreeSearchParamHybrid(radius=0.1, max_nn=30))\n",
    "#o3d.visualization.draw_geometries([pcd], point_show_normal=True)"
   ]
  },
  {
   "cell_type": "markdown",
   "id": "5aa0a172",
   "metadata": {},
   "source": [
    "### Alpha shapes (не требует pc.normals)\n",
    "\n",
    "- http://www.open3d.org/docs/latest/tutorial/Advanced/surface_reconstruction.html#Alpha-shapes"
   ]
  },
  {
   "cell_type": "code",
   "execution_count": 12,
   "id": "c78770d3",
   "metadata": {},
   "outputs": [
    {
     "name": "stdout",
     "output_type": "stream",
     "text": [
      "[Open3D WARNING] GLFW Error: WGL: Failed to make context current: Требуемая операция преобразования не поддерживается. \n",
      "[Open3D WARNING] GLFW Error: WGL: Failed to make context current: Требуемая операция преобразования не поддерживается. \n",
      "[Open3D WARNING] GLFW Error: WGL: Failed to make context current: Требуемая операция преобразования не поддерживается. \n",
      "[Open3D WARNING] GLFW Error: WGL: Failed to make context current: Требуемая операция преобразования не поддерживается. \n",
      "[Open3D WARNING] GLFW Error: WGL: Failed to make context current: Требуемая операция преобразования не поддерживается. \n",
      "[Open3D WARNING] GLFW Error: WGL: Failed to make context current: Неверный дескриптор. \n",
      "[Open3D WARNING] GLFW Error: WGL: Failed to make context current: Неверный дескриптор. \n",
      "[Open3D WARNING] GLFW Error: WGL: Failed to make context current: Требуемая операция преобразования не поддерживается. \n",
      "[Open3D WARNING] GLFW Error: WGL: Failed to make context current: Неверный дескриптор. \n",
      "[Open3D WARNING] GLFW Error: WGL: Failed to make context current: Неверный дескриптор. \n",
      "[Open3D WARNING] GLFW Error: WGL: Failed to make context current: Требуемая операция преобразования не поддерживается. \n"
     ]
    }
   ],
   "source": [
    "mesh = o3d.geometry.TriangleMesh.create_from_point_cloud_alpha_shape(pcd, 0.18)\n",
    "mesh.compute_vertex_normals()\n",
    "o3d.visualization.draw_geometries([mesh], mesh_show_back_face=True)"
   ]
  },
  {
   "cell_type": "markdown",
   "id": "af55962a",
   "metadata": {},
   "source": [
    "### Ball pivoting (требует pc.normals)\n",
    "\n",
    "- http://www.open3d.org/docs/latest/tutorial/Advanced/surface_reconstruction.html#Ball-pivoting"
   ]
  },
  {
   "cell_type": "code",
   "execution_count": 66,
   "id": "22fe3a66",
   "metadata": {},
   "outputs": [],
   "source": [
    "#ntr_max = 0\n",
    "#for i in range(20000):\n",
    "#    radii = [0.00001*(i+1)]\n",
    "#    rec_mesh = o3d.geometry.TriangleMesh.create_from_point_cloud_ball_pivoting(pcd, o3d.utility.DoubleVector(radii))\n",
    "#    ntr_curr = int(str(rec_mesh).split()[-2])\n",
    "#    if ntr_curr > ntr_max:\n",
    "#        ntr_max = ntr_curr\n",
    "#        print(radii, ntr_max) # --> [0.11531] 83"
   ]
  },
  {
   "cell_type": "code",
   "execution_count": 10,
   "id": "fc7d7b34",
   "metadata": {},
   "outputs": [
    {
     "name": "stdout",
     "output_type": "stream",
     "text": [
      "253\n",
      "[Open3D WARNING] GLFW Error: WGL: Failed to make context current: Неверный дескриптор. \n",
      "[Open3D WARNING] GLFW Error: WGL: Failed to make context current: Требуемая операция преобразования не поддерживается. \n",
      "[Open3D WARNING] GLFW Error: WGL: Failed to make context current: Неверный дескриптор. \n"
     ]
    }
   ],
   "source": [
    "r = 0.11531\n",
    "optimal_radii = [r*x for x in [1,2]]\n",
    "rec_mesh = o3d.geometry.TriangleMesh.create_from_point_cloud_ball_pivoting(pcd,\n",
    "                                                                           o3d.utility.DoubleVector(optimal_radii))\n",
    "ntr_curr = int(str(rec_mesh).split()[-2])\n",
    "print(ntr_curr)\n",
    "o3d.visualization.draw_geometries([pcd, rec_mesh], mesh_show_back_face=True, point_show_normal=True)"
   ]
  },
  {
   "cell_type": "markdown",
   "id": "c9dacb82",
   "metadata": {},
   "source": [
    "### Poisson surface reconstruction (требует pc.normals)\n",
    "\n",
    "- http://www.open3d.org/docs/latest/tutorial/Advanced/surface_reconstruction.html#Poisson-surface-reconstruction"
   ]
  },
  {
   "cell_type": "code",
   "execution_count": 11,
   "id": "3e083149",
   "metadata": {},
   "outputs": [
    {
     "name": "stdout",
     "output_type": "stream",
     "text": [
      "[Open3D DEBUG] Input Points / Samples: 294 / 294\n",
      "[Open3D DEBUG] #   Got kernel density: 0.00400019 (s), 114.633 (MB) / 114.633 (MB) / 245 (MB)\n",
      "[Open3D DEBUG] #     Got normal field: 0.00300002 (s), 115.34 (MB) / 115.34 (MB) / 245 (MB)\n",
      "[Open3D DEBUG] Point weight / Estimated Area: 2.142963e-03 / 6.300310e-01\n",
      "[Open3D DEBUG] #       Finalized tree: 0.0109999 (s), 120.566 (MB) / 120.566 (MB) / 245 (MB)\n",
      "[Open3D DEBUG] #  Set FEM constraints: 0.036 (s), 119.746 (MB) / 120.566 (MB) / 245 (MB)\n",
      "[Open3D DEBUG] #Set point constraints: 0.00200009 (s), 119.512 (MB) / 120.566 (MB) / 245 (MB)\n",
      "[Open3D DEBUG] Leaf Nodes / Active Nodes / Ghost Nodes: 82678 / 67808 / 26681\n",
      "[Open3D DEBUG] Memory Usage: 119.516 MB\n",
      "[Open3D DEBUG] # Linear system solved: 0.0699999 (s), 123.281 (MB) / 123.281 (MB) / 245 (MB)\n",
      "[Open3D DEBUG] Got average: 0.00300002 (s), 119.539 (MB) / 123.281 (MB) / 245 (MB)\n",
      "[Open3D DEBUG] Iso-Value: 4.967621e-01 = 1.460480e+02 / 2.940000e+02\n",
      "[Open3D DEBUG] #          Total Solve:       0.3 (s),     139.0 (MB)\n",
      "[Open3D WARNING] GLFW Error: WGL: Failed to make context current: Требуемая операция преобразования не поддерживается. \n"
     ]
    }
   ],
   "source": [
    "with o3d.utility.VerbosityContextManager(o3d.utility.VerbosityLevel.Debug) as cm:\n",
    "    mesh, densities = o3d.geometry.TriangleMesh.create_from_point_cloud_poisson(pcd, depth=9)\n",
    "#print(mesh)\n",
    "\n",
    "o3d.visualization.draw_geometries([pcd, mesh], mesh_show_back_face=True, point_show_normal=True,\n",
    "                                  width=1500, height=900)"
   ]
  },
  {
   "cell_type": "code",
   "execution_count": null,
   "id": "60174a25",
   "metadata": {},
   "outputs": [],
   "source": []
  }
 ],
 "metadata": {
  "kernelspec": {
   "display_name": "Python 3",
   "language": "python",
   "name": "python3"
  },
  "language_info": {
   "codemirror_mode": {
    "name": "ipython",
    "version": 3
   },
   "file_extension": ".py",
   "mimetype": "text/x-python",
   "name": "python",
   "nbconvert_exporter": "python",
   "pygments_lexer": "ipython3",
   "version": "3.8.8"
  }
 },
 "nbformat": 4,
 "nbformat_minor": 5
}
